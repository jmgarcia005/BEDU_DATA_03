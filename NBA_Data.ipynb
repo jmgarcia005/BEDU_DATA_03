{
 "cells": [
  {
   "cell_type": "code",
   "execution_count": 4,
   "metadata": {},
   "outputs": [
    {
     "name": "stdout",
     "output_type": "stream",
     "text": [
      "Download is ready\n"
     ]
    }
   ],
   "source": [
    "import requests \n",
    "\n",
    "#Constants \n",
    "DATASET_URL = 'https://raw.githubusercontent.com/fivethirtyeight/data/master/nba-elo/nbaallelo.csv'\n",
    "FILENAME = 'tmp/nba_data.csv'\n",
    "\n",
    "#fetching data from internet\n",
    "response = requests.get(DATASET_URL)\n",
    "response.raise_for_status() # it there was an error the script will finish here\n",
    "\n",
    "#Saving Data from the internet\n",
    "with open(FILENAME, 'wb') as csv_file:\n",
    "    csv_file.write(response.content)\n",
    "    \n",
    "#Finishing download\n",
    "print('Download is ready')\n",
    "    \n"
   ]
  },
  {
   "cell_type": "code",
   "execution_count": null,
   "metadata": {},
   "outputs": [],
   "source": []
  }
 ],
 "metadata": {
  "kernelspec": {
   "display_name": "Python 3",
   "language": "python",
   "name": "python3"
  },
  "language_info": {
   "codemirror_mode": {
    "name": "ipython",
    "version": 3
   },
   "file_extension": ".py",
   "mimetype": "text/x-python",
   "name": "python",
   "nbconvert_exporter": "python",
   "pygments_lexer": "ipython3",
   "version": "3.9.0"
  }
 },
 "nbformat": 4,
 "nbformat_minor": 4
}
